{
 "cells": [
  {
   "cell_type": "markdown",
   "metadata": {
    "id": "gMNAX815yd5n"
   },
   "source": [
    "# **GRIP The Sparks Foundation**\n",
    "\n",
    "### **Name:** Ankit Sharma\n",
    "\n",
    "### **Internship:** Computer Vision & Internet of Things\n",
    "\n",
    "### **TASK 4:** Detection of face mask"
   ]
  },
  {
   "cell_type": "markdown",
   "metadata": {},
   "source": [
    "# **TRAINING NOTEBOOK**"
   ]
  },
  {
   "cell_type": "markdown",
   "metadata": {
    "id": "TMFIFkUUSb19"
   },
   "source": [
    "## Importing libraries"
   ]
  },
  {
   "cell_type": "code",
   "execution_count": null,
   "metadata": {
    "id": "57AxGdqVSb19"
   },
   "outputs": [],
   "source": [
    "import numpy as np\n",
    "import os\n",
    "import matplotlib.pyplot as plt\n",
    "from imutils import paths\n",
    "from tensorflow.keras.layers import Dense, Flatten, Dropout, Input, AveragePooling2D\n",
    "from tensorflow.keras.applications import MobileNetV2\n",
    "from tensorflow.keras.applications.mobilenet_v2 import preprocess_input\n",
    "from tensorflow.keras.preprocessing.image import ImageDataGenerator, img_to_array, load_img\n",
    "from tensorflow.keras.utils import to_categorical\n",
    "from tensorflow.keras.optimizers import Adam\n",
    "from tensorflow.keras.models import Model\n",
    "\n",
    "from sklearn.preprocessing import LabelBinarizer\n",
    "from sklearn.model_selection import train_test_split\n",
    "from sklearn.metrics import classification_report"
   ]
  },
  {
   "cell_type": "markdown",
   "metadata": {
    "id": "Dg2OO34ETNL5"
   },
   "source": [
    "## Uploading dataset"
   ]
  },
  {
   "cell_type": "code",
   "execution_count": null,
   "metadata": {
    "colab": {
     "base_uri": "https://localhost:8080/"
    },
    "id": "mZa8YHEjTRwn",
    "outputId": "18c427b1-2c0e-4219-a721-1adf20a6cfae"
   },
   "outputs": [
    {
     "name": "stdout",
     "output_type": "stream",
     "text": [
      "Requirement already satisfied: rarfile in /usr/local/lib/python3.6/dist-packages (4.0)\n"
     ]
    }
   ],
   "source": [
    "!pip install rarfile\n",
    "import rarfile\n",
    "\n",
    "rar_ref = rarfile.RarFile(\"/content/dataset.rar\")\n",
    "rar_ref.extractall(\"/tmp/FACE_DATA\")\n",
    "rar_ref.close()"
   ]
  },
  {
   "cell_type": "code",
   "execution_count": null,
   "metadata": {
    "colab": {
     "base_uri": "https://localhost:8080/"
    },
    "id": "U7UitbcgTgQT",
    "outputId": "0a5704d8-e377-40c3-b7ff-860a6f1c1b11"
   },
   "outputs": [
    {
     "name": "stdout",
     "output_type": "stream",
     "text": [
      "'with mask'  'without mask'\n"
     ]
    }
   ],
   "source": [
    "!ls \"/tmp/FACE_DATA/\""
   ]
  },
  {
   "cell_type": "code",
   "execution_count": null,
   "metadata": {
    "colab": {
     "base_uri": "https://localhost:8080/"
    },
    "id": "MjcDECDQT5e6",
    "outputId": "de24cb79-47e6-4425-e25c-2ef3c0dedd98"
   },
   "outputs": [
    {
     "name": "stdout",
     "output_type": "stream",
     "text": [
      "690\n",
      "686\n"
     ]
    }
   ],
   "source": [
    "with_mask_dir = \"/tmp/FACE_DATA/with mask\"\n",
    "without_mask_dir = \"/tmp/FACE_DATA/without mask\"\n",
    "\n",
    "print(len(os.listdir(with_mask_dir)))\n",
    "print(len(os.listdir(without_mask_dir)))"
   ]
  },
  {
   "cell_type": "markdown",
   "metadata": {
    "id": "GvS_cwtpSb19"
   },
   "source": [
    "## Preprocessing dataset"
   ]
  },
  {
   "cell_type": "code",
   "execution_count": null,
   "metadata": {
    "id": "B7N4PohESb19"
   },
   "outputs": [],
   "source": [
    "DATASET = \"/tmp/FACE_DATA\"\n",
    "CATEGORIES = [\"with mask\",\"without mask\"]\n",
    "\n",
    "data = []\n",
    "labels = []\n",
    "\n",
    "for category in CATEGORIES:\n",
    "    path = os.path.join(DATASET, category)\n",
    "    for img in os.listdir(path):\n",
    "        img_path = os.path.join(path, img)\n",
    "        image = load_img(img_path, target_size=(224, 224))\n",
    "        image = img_to_array(image)\n",
    "        image = preprocess_input(image)\n",
    "\n",
    "        data.append(image)\n",
    "        labels.append(category)\n",
    "\n",
    "# One-Hot encoding\n",
    "lb = LabelBinarizer()\n",
    "labels = lb.fit_transform(labels)\n",
    "labels = to_categorical(labels)\n",
    "\n",
    "data = np.array(data, dtype=\"float32\")\n",
    "labels = np.array(labels)"
   ]
  },
  {
   "cell_type": "markdown",
   "metadata": {
    "id": "H_ntJZMGSb19"
   },
   "source": [
    "## Data Splitting and Augmentation"
   ]
  },
  {
   "cell_type": "code",
   "execution_count": null,
   "metadata": {
    "id": "mmkOQk8iSb19"
   },
   "outputs": [],
   "source": [
    "X_train, X_test, y_train, y_test = train_test_split(data,labels,test_size=0.2,\n",
    "                                                   stratify=labels, random_state = 42)\n",
    "\n",
    "augment = ImageDataGenerator(rotation_range=20,\n",
    "                            zoom_range=0.15,\n",
    "                            width_shift_range=0.2,\n",
    "                            height_shift_range=0.2,\n",
    "                            shear_range=0.15,\n",
    "                            horizontal_flip=True,\n",
    "                            fill_mode=\"nearest\")"
   ]
  },
  {
   "cell_type": "markdown",
   "metadata": {
    "id": "z_GkSHMMSb19"
   },
   "source": [
    "## Implementing transfer learning using MobileNetV2"
   ]
  },
  {
   "cell_type": "code",
   "execution_count": null,
   "metadata": {
    "colab": {
     "base_uri": "https://localhost:8080/"
    },
    "id": "x7BFi_jnSb19",
    "outputId": "b314cfbe-d056-4d29-d3c2-9f90b7d6d340"
   },
   "outputs": [
    {
     "name": "stdout",
     "output_type": "stream",
     "text": [
      "WARNING:tensorflow:`input_shape` is undefined or non-square, or `rows` is not in [96, 128, 160, 192, 224]. Weights for input shape (224, 224) will be loaded as the default.\n"
     ]
    }
   ],
   "source": [
    "baseModel = MobileNetV2(weights=\"imagenet\", include_top=False,\n",
    "                        input_tensor=Input(shape=(224, 224, 3)))\n",
    "\n",
    "headModel = baseModel.output\n",
    "headModel = AveragePooling2D((7,7))(headModel)\n",
    "headModel = Flatten(name=\"flatten\")(headModel)\n",
    "headModel = Dense(128, activation='relu')(headModel)\n",
    "headModel = Dropout(0.5)(headModel)\n",
    "headModel = Dense(2, activation='softmax')(headModel)\n",
    "\n",
    "model = Model(inputs=baseModel.input, outputs = headModel)\n",
    "\n",
    "# freezing baseModel layers for not training\n",
    "for layer in baseModel.layers:\n",
    "    layer.trainable = False"
   ]
  },
  {
   "cell_type": "code",
   "execution_count": null,
   "metadata": {
    "colab": {
     "base_uri": "https://localhost:8080/"
    },
    "id": "9TV1th_jSb19",
    "outputId": "58bf5e6c-6be8-45d6-e892-3f5e97e3f7d6"
   },
   "outputs": [
    {
     "name": "stdout",
     "output_type": "stream",
     "text": [
      "Epoch 1/20\n",
      "34/34 [==============================] - 12s 357ms/step - loss: 0.4185 - accuracy: 0.7968 - val_loss: 0.1203 - val_accuracy: 0.9819\n",
      "Epoch 2/20\n",
      "34/34 [==============================] - 11s 326ms/step - loss: 0.1486 - accuracy: 0.9504 - val_loss: 0.0585 - val_accuracy: 0.9928\n",
      "Epoch 3/20\n",
      "34/34 [==============================] - 11s 323ms/step - loss: 0.0842 - accuracy: 0.9719 - val_loss: 0.0400 - val_accuracy: 0.9928\n",
      "Epoch 4/20\n",
      "34/34 [==============================] - 11s 323ms/step - loss: 0.0670 - accuracy: 0.9794 - val_loss: 0.0315 - val_accuracy: 0.9928\n",
      "Epoch 5/20\n",
      "34/34 [==============================] - 11s 324ms/step - loss: 0.0669 - accuracy: 0.9766 - val_loss: 0.0270 - val_accuracy: 0.9964\n",
      "Epoch 6/20\n",
      "34/34 [==============================] - 11s 324ms/step - loss: 0.0406 - accuracy: 0.9869 - val_loss: 0.0220 - val_accuracy: 0.9928\n",
      "Epoch 7/20\n",
      "34/34 [==============================] - 11s 318ms/step - loss: 0.0356 - accuracy: 0.9878 - val_loss: 0.0192 - val_accuracy: 0.9928\n",
      "Epoch 8/20\n",
      "34/34 [==============================] - 11s 322ms/step - loss: 0.0287 - accuracy: 0.9916 - val_loss: 0.0174 - val_accuracy: 0.9928\n",
      "Epoch 9/20\n",
      "34/34 [==============================] - 11s 324ms/step - loss: 0.0236 - accuracy: 0.9944 - val_loss: 0.0156 - val_accuracy: 0.9964\n",
      "Epoch 10/20\n",
      "34/34 [==============================] - 11s 320ms/step - loss: 0.0185 - accuracy: 0.9963 - val_loss: 0.0139 - val_accuracy: 0.9964\n",
      "Epoch 11/20\n",
      "34/34 [==============================] - 11s 317ms/step - loss: 0.0190 - accuracy: 0.9944 - val_loss: 0.0138 - val_accuracy: 0.9964\n",
      "Epoch 12/20\n",
      "34/34 [==============================] - 11s 317ms/step - loss: 0.0196 - accuracy: 0.9944 - val_loss: 0.0127 - val_accuracy: 0.9964\n",
      "Epoch 13/20\n",
      "34/34 [==============================] - 11s 317ms/step - loss: 0.0210 - accuracy: 0.9934 - val_loss: 0.0113 - val_accuracy: 0.9964\n",
      "Epoch 14/20\n",
      "34/34 [==============================] - 11s 318ms/step - loss: 0.0159 - accuracy: 0.9934 - val_loss: 0.0105 - val_accuracy: 0.9964\n",
      "Epoch 15/20\n",
      "34/34 [==============================] - 11s 321ms/step - loss: 0.0116 - accuracy: 0.9981 - val_loss: 0.0103 - val_accuracy: 0.9964\n",
      "Epoch 16/20\n",
      "34/34 [==============================] - 11s 324ms/step - loss: 0.0166 - accuracy: 0.9934 - val_loss: 0.0096 - val_accuracy: 0.9964\n",
      "Epoch 17/20\n",
      "34/34 [==============================] - 11s 320ms/step - loss: 0.0139 - accuracy: 0.9953 - val_loss: 0.0092 - val_accuracy: 0.9964\n",
      "Epoch 18/20\n",
      "34/34 [==============================] - 11s 319ms/step - loss: 0.0132 - accuracy: 0.9944 - val_loss: 0.0079 - val_accuracy: 0.9964\n",
      "Epoch 19/20\n",
      "34/34 [==============================] - 11s 316ms/step - loss: 0.0180 - accuracy: 0.9944 - val_loss: 0.0074 - val_accuracy: 0.9964\n",
      "Epoch 20/20\n",
      "34/34 [==============================] - 11s 319ms/step - loss: 0.0133 - accuracy: 0.9972 - val_loss: 0.0064 - val_accuracy: 1.0000\n"
     ]
    }
   ],
   "source": [
    "LR = 1e-4\n",
    "EPOCHS = 20\n",
    "BATCH_SIZE = 32\n",
    "opt = Adam(lr=LR,decay=LR/EPOCHS)\n",
    "\n",
    "model.compile(loss=\"binary_crossentropy\",optimizer=opt,\n",
    "             metrics=['accuracy'])\n",
    "\n",
    "history = model.fit(augment.flow(X_train,y_train,batch_size=BATCH_SIZE),\n",
    "                   steps_per_epoch=len(X_train)//BATCH_SIZE,\n",
    "                   validation_data=(X_test,y_test),\n",
    "                   validation_steps=len(X_test)//BATCH_SIZE,\n",
    "                   epochs=EPOCHS,callbacks=[callback])"
   ]
  },
  {
   "cell_type": "markdown",
   "metadata": {
    "id": "UeRcgqVId7Uq"
   },
   "source": [
    "## Model evaluation and Classification report"
   ]
  },
  {
   "cell_type": "code",
   "execution_count": null,
   "metadata": {
    "colab": {
     "base_uri": "https://localhost:8080/"
    },
    "id": "1NLYDrHuSb1-",
    "outputId": "40b47d87-f1fe-482a-c3e9-bbd652989fcb"
   },
   "outputs": [
    {
     "name": "stdout",
     "output_type": "stream",
     "text": [
      "              precision    recall  f1-score   support\n",
      "\n",
      "   with mask       1.00      1.00      1.00       138\n",
      "without mask       1.00      1.00      1.00       138\n",
      "\n",
      "    accuracy                           1.00       276\n",
      "   macro avg       1.00      1.00      1.00       276\n",
      "weighted avg       1.00      1.00      1.00       276\n",
      "\n"
     ]
    }
   ],
   "source": [
    "prediction = model.predict(X_test, batch_size=BATCH_SIZE)\n",
    "prediction = np.argmax(prediction, axis=1)\n",
    "\n",
    "# classification report\n",
    "print(classification_report(y_test.argmax(axis=1), prediction,\n",
    "\ttarget_names=lb.classes_))\n",
    "\n",
    "# saving model\n",
    "model.save(\"/content/fask_mask_detector.model\")"
   ]
  },
  {
   "cell_type": "code",
   "execution_count": null,
   "metadata": {
    "id": "gqvVSb1CcHIN"
   },
   "outputs": [],
   "source": [
    "model.save(\"/tmp/fask_mask_detector.model\", save_format=\"h5\")"
   ]
  },
  {
   "cell_type": "markdown",
   "metadata": {
    "id": "oAwE3FQqVOp9"
   },
   "source": [
    "## Plotting accuracy-loss graph"
   ]
  },
  {
   "cell_type": "code",
   "execution_count": null,
   "metadata": {
    "colab": {
     "base_uri": "https://localhost:8080/",
     "height": 299
    },
    "id": "UwTv9O39VPYU",
    "outputId": "e29f4f9c-8274-497b-d2fd-20c021b18e44",
    "scrolled": true
   },
   "outputs": [
    {
     "data": {
      "image/png": "[encoded data removed]",
      "text/plain": [
       "<Figure size 432x288 with 1 Axes>"
      ]
     },
     "metadata": {
      "tags": []
     },
     "output_type": "display_data"
    }
   ],
   "source": [
    "N = EPOCHS\n",
    "plt.style.use(\"ggplot\")\n",
    "plt.figure()\n",
    "plt.plot(np.arange(0, N), history.history[\"loss\"], label=\"train_loss\")\n",
    "plt.plot(np.arange(0, N), history.history[\"val_loss\"], label=\"val_loss\")\n",
    "plt.plot(np.arange(0, N), history.history[\"accuracy\"], label=\"train_acc\")\n",
    "plt.plot(np.arange(0, N), history.history[\"val_accuracy\"], label=\"val_acc\")\n",
    "plt.title(\"Training Loss and Accuracy\")\n",
    "plt.xlabel(\"Epoch #\")\n",
    "plt.ylabel(\"Loss/Accuracy\")\n",
    "plt.legend(loc=\"middle right\")\n",
    "plt.savefig(\"plot.png\")"
   ]
  },
  {
   "cell_type": "markdown",
   "metadata": {},
   "source": [
    "- Training loss: 0.0133\n",
    "- Training accuracy: 0.9972 \n",
    "- val_loss: 0.0064 \n",
    "- val_accuracy: 1.0000"
   ]
  },
  {
   "cell_type": "markdown",
   "metadata": {
    "id": "EqUhY__5dj1x"
   },
   "source": [
    "## Thanks and now let's go for the testing part"
   ]
  }
 ],
 "metadata": {
  "accelerator": "GPU",
  "colab": {
   "name": "Face_mask_detection_training.ipynb",
   "provenance": [],
   "toc_visible": true
  },
  "kernelspec": {
   "display_name": "Python 3",
   "language": "python",
   "name": "python3"
  },
  "language_info": {
   "codemirror_mode": {
    "name": "ipython",
    "version": 3
   },
   "file_extension": ".py",
   "mimetype": "text/x-python",
   "name": "python",
   "nbconvert_exporter": "python",
   "pygments_lexer": "ipython3",
   "version": "3.7.4"
  },
  "latex_envs": {
   "LaTeX_envs_menu_present": true,
   "autoclose": false,
   "autocomplete": true,
   "bibliofile": "biblio.bib",
   "cite_by": "apalike",
   "current_citInitial": 1,
   "eqLabelWithNumbers": true,
   "eqNumInitial": 1,
   "hotkeys": {
    "equation": "Ctrl-E",
    "itemize": "Ctrl-I"
   },
   "labels_anchors": false,
   "latex_user_defs": false,
   "report_style_numbering": false,
   "user_envs_cfg": false
  },
  "varInspector": {
   "cols": {
    "lenName": 16,
    "lenType": 16,
    "lenVar": 40
   },
   "kernels_config": {
    "python": {
     "delete_cmd_postfix": "",
     "delete_cmd_prefix": "del ",
     "library": "var_list.py",
     "varRefreshCmd": "print(var_dic_list())"
    },
    "r": {
     "delete_cmd_postfix": ") ",
     "delete_cmd_prefix": "rm(",
     "library": "var_list.r",
     "varRefreshCmd": "cat(var_dic_list()) "
    }
   },
   "types_to_exclude": [
    "module",
    "function",
    "builtin_function_or_method",
    "instance",
    "_Feature"
   ],
   "window_display": false
  }
 },
 "nbformat": 4,
 "nbformat_minor": 1
}
